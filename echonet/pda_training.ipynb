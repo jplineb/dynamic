{
 "cells": [
  {
   "cell_type": "code",
   "execution_count": 1,
   "id": "f5a216ef-4451-46d7-b55d-f4845c190138",
   "metadata": {},
   "outputs": [],
   "source": [
    "%load_ext autoreload\n",
    "%autoreload 2"
   ]
  },
  {
   "cell_type": "markdown",
   "id": "84220cd2-56c6-4a55-a794-86cf097e5a48",
   "metadata": {},
   "source": [
    "# Close Cache just in case"
   ]
  },
  {
   "cell_type": "code",
   "execution_count": 2,
   "id": "f5f0a40f-1ad6-4cb9-8f2a-20301606a11c",
   "metadata": {},
   "outputs": [
    {
     "name": "stdout",
     "output_type": "stream",
     "text": [
      "|===========================================================================|\n",
      "|                  PyTorch CUDA memory summary, device ID 0                 |\n",
      "|---------------------------------------------------------------------------|\n",
      "|            CUDA OOMs: 0            |        cudaMalloc retries: 0         |\n",
      "|===========================================================================|\n",
      "|        Metric         | Cur Usage  | Peak Usage | Tot Alloc  | Tot Freed  |\n",
      "|---------------------------------------------------------------------------|\n",
      "| Allocated memory      |       0 B  |       0 B  |       0 B  |       0 B  |\n",
      "|       from large pool |       0 B  |       0 B  |       0 B  |       0 B  |\n",
      "|       from small pool |       0 B  |       0 B  |       0 B  |       0 B  |\n",
      "|---------------------------------------------------------------------------|\n",
      "| Active memory         |       0 B  |       0 B  |       0 B  |       0 B  |\n",
      "|       from large pool |       0 B  |       0 B  |       0 B  |       0 B  |\n",
      "|       from small pool |       0 B  |       0 B  |       0 B  |       0 B  |\n",
      "|---------------------------------------------------------------------------|\n",
      "| GPU reserved memory   |       0 B  |       0 B  |       0 B  |       0 B  |\n",
      "|       from large pool |       0 B  |       0 B  |       0 B  |       0 B  |\n",
      "|       from small pool |       0 B  |       0 B  |       0 B  |       0 B  |\n",
      "|---------------------------------------------------------------------------|\n",
      "| Non-releasable memory |       0 B  |       0 B  |       0 B  |       0 B  |\n",
      "|       from large pool |       0 B  |       0 B  |       0 B  |       0 B  |\n",
      "|       from small pool |       0 B  |       0 B  |       0 B  |       0 B  |\n",
      "|---------------------------------------------------------------------------|\n",
      "| Allocations           |       0    |       0    |       0    |       0    |\n",
      "|       from large pool |       0    |       0    |       0    |       0    |\n",
      "|       from small pool |       0    |       0    |       0    |       0    |\n",
      "|---------------------------------------------------------------------------|\n",
      "| Active allocs         |       0    |       0    |       0    |       0    |\n",
      "|       from large pool |       0    |       0    |       0    |       0    |\n",
      "|       from small pool |       0    |       0    |       0    |       0    |\n",
      "|---------------------------------------------------------------------------|\n",
      "| GPU reserved segments |       0    |       0    |       0    |       0    |\n",
      "|       from large pool |       0    |       0    |       0    |       0    |\n",
      "|       from small pool |       0    |       0    |       0    |       0    |\n",
      "|---------------------------------------------------------------------------|\n",
      "| Non-releasable allocs |       0    |       0    |       0    |       0    |\n",
      "|       from large pool |       0    |       0    |       0    |       0    |\n",
      "|       from small pool |       0    |       0    |       0    |       0    |\n",
      "|===========================================================================|\n",
      "\n"
     ]
    }
   ],
   "source": [
    "import torch\n",
    "torch.cuda.empty_cache()\n",
    "print(torch.cuda.memory_summary())"
   ]
  },
  {
   "cell_type": "markdown",
   "id": "c93348f7-d891-4577-878f-dbc63fda90de",
   "metadata": {},
   "source": [
    "# Training"
   ]
  },
  {
   "cell_type": "code",
   "execution_count": 3,
   "id": "34ea0e6a-afdb-4f7e-be29-c9083da7d7a0",
   "metadata": {},
   "outputs": [],
   "source": [
    "from utils import video"
   ]
  },
  {
   "cell_type": "code",
   "execution_count": null,
   "id": "f075699f-e0f7-4251-87a8-1846de2d7345",
   "metadata": {},
   "outputs": [
    {
     "name": "stderr",
     "output_type": "stream",
     "text": [
      "100%|██████████| 16/16 [00:16<00:00,  1.04s/it]\n"
     ]
    },
    {
     "name": "stdout",
     "output_type": "stream",
     "text": [
      "Epoch #0\n"
     ]
    },
    {
     "name": "stderr",
     "output_type": "stream",
     "text": [
      "100%|██████████| 57/57 [00:59<00:00,  1.04s/it, 0.64 (0.64) / 0.22]\n",
      "100%|██████████| 13/13 [00:11<00:00,  1.14it/s, 0.56 (0.77) / 0.21]\n"
     ]
    },
    {
     "name": "stdout",
     "output_type": "stream",
     "text": [
      "Loss on val:0.5635036723535569 for epoch 0\n",
      "Epoch #1\n"
     ]
    },
    {
     "name": "stderr",
     "output_type": "stream",
     "text": [
      "100%|██████████| 57/57 [00:57<00:00,  1.01s/it, 0.52 (0.68) / 0.23]\n",
      "100%|██████████| 13/13 [00:13<00:00,  1.06s/it, 0.49 (0.35) / 0.21]\n"
     ]
    },
    {
     "name": "stdout",
     "output_type": "stream",
     "text": [
      "Loss on val:0.4928844365917268 for epoch 1\n",
      "Epoch #2\n"
     ]
    },
    {
     "name": "stderr",
     "output_type": "stream",
     "text": [
      "100%|██████████| 57/57 [01:00<00:00,  1.06s/it, 0.41 (0.57) / 0.22]\n",
      "100%|██████████| 13/13 [00:12<00:00,  1.08it/s, 0.43 (1.22) / 0.21]\n"
     ]
    },
    {
     "name": "stdout",
     "output_type": "stream",
     "text": [
      "Loss on val:0.43394485042720543 for epoch 2\n",
      "Epoch #3\n"
     ]
    },
    {
     "name": "stderr",
     "output_type": "stream",
     "text": [
      "100%|██████████| 57/57 [00:58<00:00,  1.03s/it, 0.28 (0.24) / 0.22]\n",
      "100%|██████████| 13/13 [00:12<00:00,  1.02it/s, 0.49 (0.73) / 0.21]\n"
     ]
    },
    {
     "name": "stdout",
     "output_type": "stream",
     "text": [
      "Loss on val:0.4902235437489924 for epoch 3\n",
      "Epoch #4\n"
     ]
    },
    {
     "name": "stderr",
     "output_type": "stream",
     "text": [
      "100%|██████████| 57/57 [01:00<00:00,  1.07s/it, 0.21 (0.11) / 0.23]\n",
      "100%|██████████| 13/13 [00:13<00:00,  1.05s/it, 0.49 (0.12) / 0.21]\n"
     ]
    },
    {
     "name": "stdout",
     "output_type": "stream",
     "text": [
      "Loss on val:0.4871897929515995 for epoch 4\n",
      "Epoch #5\n"
     ]
    },
    {
     "name": "stderr",
     "output_type": "stream",
     "text": [
      "100%|██████████| 57/57 [00:58<00:00,  1.02s/it, 0.14 (0.10) / 0.22]\n",
      "100%|██████████| 13/13 [00:11<00:00,  1.11it/s, 0.48 (0.29) / 0.21]\n"
     ]
    },
    {
     "name": "stdout",
     "output_type": "stream",
     "text": [
      "Loss on val:0.48404868899798786 for epoch 5\n",
      "Epoch #6\n"
     ]
    },
    {
     "name": "stderr",
     "output_type": "stream",
     "text": [
      "100%|██████████| 57/57 [00:57<00:00,  1.00s/it, 0.14 (0.11) / 0.23]\n",
      "100%|██████████| 13/13 [00:12<00:00,  1.08it/s, 0.64 (0.04) / 0.21]\n"
     ]
    },
    {
     "name": "stdout",
     "output_type": "stream",
     "text": [
      "Loss on val:0.6434003220962696 for epoch 6\n",
      "Epoch #7\n"
     ]
    },
    {
     "name": "stderr",
     "output_type": "stream",
     "text": [
      "100%|██████████| 57/57 [00:58<00:00,  1.02s/it, 0.10 (0.01) / 0.22]\n",
      "100%|██████████| 13/13 [00:12<00:00,  1.06it/s, 0.59 (0.02) / 0.21]\n"
     ]
    },
    {
     "name": "stdout",
     "output_type": "stream",
     "text": [
      "Loss on val:0.5897101808766849 for epoch 7\n",
      "Epoch #8\n"
     ]
    },
    {
     "name": "stderr",
     "output_type": "stream",
     "text": [
      "100%|██████████| 57/57 [00:56<00:00,  1.01it/s, 0.08 (0.02) / 0.22]\n",
      "100%|██████████| 13/13 [00:12<00:00,  1.08it/s, 0.67 (1.99) / 0.21]\n"
     ]
    },
    {
     "name": "stdout",
     "output_type": "stream",
     "text": [
      "Loss on val:0.6728029426981191 for epoch 8\n",
      "Epoch #9\n"
     ]
    },
    {
     "name": "stderr",
     "output_type": "stream",
     "text": [
      "100%|██████████| 57/57 [00:59<00:00,  1.04s/it, 0.06 (0.05) / 0.22]\n",
      "100%|██████████| 13/13 [00:12<00:00,  1.06it/s, 0.61 (0.02) / 0.21]\n"
     ]
    },
    {
     "name": "stdout",
     "output_type": "stream",
     "text": [
      "Loss on val:0.6104388737776241 for epoch 9\n",
      "Epoch #10\n"
     ]
    },
    {
     "name": "stderr",
     "output_type": "stream",
     "text": [
      "100%|██████████| 57/57 [00:58<00:00,  1.03s/it, 0.07 (0.14) / 0.22]\n",
      "100%|██████████| 13/13 [00:11<00:00,  1.09it/s, 0.69 (0.67) / 0.21]\n"
     ]
    },
    {
     "name": "stdout",
     "output_type": "stream",
     "text": [
      "Loss on val:0.6946862410815036 for epoch 10\n",
      "Epoch #11\n"
     ]
    },
    {
     "name": "stderr",
     "output_type": "stream",
     "text": [
      "100%|██████████| 57/57 [00:58<00:00,  1.02s/it, 0.07 (0.15) / 0.22]\n",
      "100%|██████████| 13/13 [00:12<00:00,  1.01it/s, 0.58 (0.02) / 0.21]\n"
     ]
    },
    {
     "name": "stdout",
     "output_type": "stream",
     "text": [
      "Loss on val:0.5816537580284916 for epoch 11\n",
      "Epoch #12\n"
     ]
    },
    {
     "name": "stderr",
     "output_type": "stream",
     "text": [
      "100%|██████████| 57/57 [00:59<00:00,  1.05s/it, 0.06 (0.41) / 0.22]\n",
      "100%|██████████| 13/13 [00:13<00:00,  1.06s/it, 0.63 (1.72) / 0.21]\n"
     ]
    },
    {
     "name": "stdout",
     "output_type": "stream",
     "text": [
      "Loss on val:0.6339399235658958 for epoch 12\n",
      "Epoch #13\n"
     ]
    },
    {
     "name": "stderr",
     "output_type": "stream",
     "text": [
      "100%|██████████| 57/57 [00:57<00:00,  1.00s/it, 0.05 (0.13) / 0.22]\n",
      "100%|██████████| 13/13 [00:12<00:00,  1.05it/s, 0.78 (0.19) / 0.21]\n"
     ]
    },
    {
     "name": "stdout",
     "output_type": "stream",
     "text": [
      "Loss on val:0.783864526078105 for epoch 13\n",
      "Epoch #14\n"
     ]
    },
    {
     "name": "stderr",
     "output_type": "stream",
     "text": [
      " 77%|███████▋  | 44/57 [00:46<00:10,  1.19it/s, 0.04 (0.01) / 0.23]"
     ]
    }
   ],
   "source": [
    "video.runPDA(\n",
    "    file_list=\"pda_like_echonet.csv\",\n",
    "    task=\"Label\",\n",
    "    run_test=True,\n",
    "    output = \"pda_output_lr-change\",\n",
    "    batch_size=10,\n",
    "    num_workers=30,\n",
    "    num_epochs=50,\n",
    "    lr = 1e-3)"
   ]
  },
  {
   "cell_type": "code",
   "execution_count": null,
   "id": "774b0132-84c9-466a-aef3-591df5a1628c",
   "metadata": {},
   "outputs": [],
   "source": [
    "%debug"
   ]
  },
  {
   "cell_type": "code",
   "execution_count": null,
   "id": "02eaf085-be0e-495a-8f71-f705b7e98313",
   "metadata": {},
   "outputs": [],
   "source": []
  }
 ],
 "metadata": {
  "kernelspec": {
   "display_name": "echonet_oldp",
   "language": "python",
   "name": "echonet_oldp"
  },
  "language_info": {
   "codemirror_mode": {
    "name": "ipython",
    "version": 3
   },
   "file_extension": ".py",
   "mimetype": "text/x-python",
   "name": "python",
   "nbconvert_exporter": "python",
   "pygments_lexer": "ipython3",
   "version": "3.7.4"
  }
 },
 "nbformat": 4,
 "nbformat_minor": 5
}
