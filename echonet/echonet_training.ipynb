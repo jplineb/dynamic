{
 "cells": [
  {
   "cell_type": "code",
   "execution_count": 2,
   "id": "a0aac422-8493-4880-8477-bbeb508b6e36",
   "metadata": {},
   "outputs": [],
   "source": [
    "from utils import video"
   ]
  },
  {
   "cell_type": "code",
   "execution_count": 2,
   "id": "7a057a32-4009-455c-b152-f719c0045596",
   "metadata": {
    "tags": []
   },
   "outputs": [],
   "source": [
    "# video.run(data_dir=\"/zfs/wficai/Data/echonet_data/EchoNet-Dynamic/\", batch_size=20, num_workers=30, run_test=True)"
   ]
  },
  {
   "cell_type": "code",
   "execution_count": 4,
   "id": "98b5b16e-2b42-4dff-b9c5-037669125b25",
   "metadata": {
    "tags": []
   },
   "outputs": [
    {
     "name": "stderr",
     "output_type": "stream",
     "text": [
      "100%|██████████| 16/16 [00:01<00:00,  8.65it/s]\n"
     ]
    },
    {
     "name": "stdout",
     "output_type": "stream",
     "text": [
      "Epoch #0\n"
     ]
    },
    {
     "name": "stderr",
     "output_type": "stream",
     "text": [
      "100%|██████████| 18/18 [00:32<00:00,  1.81s/it, 143.23 (161.26) / 142.08]\n",
      "100%|██████████| 4/4 [00:04<00:00,  1.16s/it, 162.66 (178.65) / 165.19]\n"
     ]
    },
    {
     "name": "stdout",
     "output_type": "stream",
     "text": [
      "Epoch #1\n"
     ]
    },
    {
     "name": "stderr",
     "output_type": "stream",
     "text": [
      "100%|██████████| 18/18 [00:32<00:00,  1.83s/it, 139.81 (138.04) / 136.81]\n",
      "100%|██████████| 4/4 [00:05<00:00,  1.25s/it, 264.86 (304.38) / 165.19]\n"
     ]
    },
    {
     "name": "stdout",
     "output_type": "stream",
     "text": [
      "Epoch #2\n"
     ]
    },
    {
     "name": "stderr",
     "output_type": "stream",
     "text": [
      "100%|██████████| 18/18 [00:32<00:00,  1.81s/it, 142.46 (161.04) / 143.14]\n",
      "100%|██████████| 4/4 [00:05<00:00,  1.27s/it, 168.23 (185.49) / 165.19]\n"
     ]
    },
    {
     "name": "stdout",
     "output_type": "stream",
     "text": [
      "Epoch #3\n"
     ]
    },
    {
     "name": "stderr",
     "output_type": "stream",
     "text": [
      "100%|██████████| 18/18 [00:33<00:00,  1.84s/it, 146.22 (223.13) / 143.74]\n",
      "100%|██████████| 4/4 [00:05<00:00,  1.33s/it, 157.16 (140.77) / 165.19]\n"
     ]
    },
    {
     "name": "stdout",
     "output_type": "stream",
     "text": [
      "Epoch #4\n"
     ]
    },
    {
     "name": "stderr",
     "output_type": "stream",
     "text": [
      "100%|██████████| 18/18 [00:32<00:00,  1.82s/it, 138.63 (108.09) / 141.98]\n",
      "100%|██████████| 4/4 [00:05<00:00,  1.28s/it, 189.00 (140.10) / 165.19]\n"
     ]
    },
    {
     "name": "stdout",
     "output_type": "stream",
     "text": [
      "Epoch #5\n"
     ]
    },
    {
     "name": "stderr",
     "output_type": "stream",
     "text": [
      "100%|██████████| 18/18 [00:33<00:00,  1.86s/it, 139.12 (166.47) / 143.94]\n",
      "100%|██████████| 4/4 [00:05<00:00,  1.30s/it, 165.05 (97.16) / 165.19] \n"
     ]
    },
    {
     "name": "stdout",
     "output_type": "stream",
     "text": [
      "Epoch #6\n"
     ]
    },
    {
     "name": "stderr",
     "output_type": "stream",
     "text": [
      "100%|██████████| 18/18 [00:32<00:00,  1.82s/it, 136.43 (110.91) / 142.80]\n",
      "100%|██████████| 4/4 [00:05<00:00,  1.29s/it, 153.69 (136.18) / 165.19]\n"
     ]
    },
    {
     "name": "stdout",
     "output_type": "stream",
     "text": [
      "Epoch #7\n"
     ]
    },
    {
     "name": "stderr",
     "output_type": "stream",
     "text": [
      "100%|██████████| 18/18 [00:32<00:00,  1.80s/it, 135.53 (118.79) / 139.37]\n",
      "100%|██████████| 4/4 [00:05<00:00,  1.31s/it, 167.12 (94.16) / 165.19] \n"
     ]
    },
    {
     "name": "stdout",
     "output_type": "stream",
     "text": [
      "Epoch #8\n"
     ]
    },
    {
     "name": "stderr",
     "output_type": "stream",
     "text": [
      "100%|██████████| 18/18 [00:32<00:00,  1.81s/it, 128.60 (80.18) / 141.03] \n",
      "100%|██████████| 4/4 [00:05<00:00,  1.26s/it, 535.19 (116.68) / 165.19]\n"
     ]
    },
    {
     "name": "stdout",
     "output_type": "stream",
     "text": [
      "Epoch #9\n"
     ]
    },
    {
     "name": "stderr",
     "output_type": "stream",
     "text": [
      "100%|██████████| 18/18 [00:32<00:00,  1.81s/it, 125.69 (147.46) / 142.53]\n",
      "100%|██████████| 4/4 [00:05<00:00,  1.36s/it, 130.73 (137.07) / 165.19]\n"
     ]
    },
    {
     "name": "stdout",
     "output_type": "stream",
     "text": [
      "Epoch #10\n"
     ]
    },
    {
     "name": "stderr",
     "output_type": "stream",
     "text": [
      "100%|██████████| 18/18 [00:33<00:00,  1.84s/it, 114.06 (143.57) / 137.26]\n",
      "100%|██████████| 4/4 [00:05<00:00,  1.26s/it, 2194.18 (3604.42) / 165.19]\n"
     ]
    },
    {
     "name": "stdout",
     "output_type": "stream",
     "text": [
      "Epoch #11\n"
     ]
    },
    {
     "name": "stderr",
     "output_type": "stream",
     "text": [
      "100%|██████████| 18/18 [00:32<00:00,  1.83s/it, 115.20 (138.39) / 141.56]\n",
      "100%|██████████| 4/4 [00:05<00:00,  1.27s/it, 35064.52 (19260.39) / 165.19]\n"
     ]
    },
    {
     "name": "stdout",
     "output_type": "stream",
     "text": [
      "Epoch #12\n"
     ]
    },
    {
     "name": "stderr",
     "output_type": "stream",
     "text": [
      "100%|██████████| 18/18 [00:32<00:00,  1.82s/it, 117.78 (139.01) / 137.42]\n",
      "100%|██████████| 4/4 [00:05<00:00,  1.40s/it, 292.68 (415.05) / 165.19]\n"
     ]
    },
    {
     "name": "stdout",
     "output_type": "stream",
     "text": [
      "Epoch #13\n"
     ]
    },
    {
     "name": "stderr",
     "output_type": "stream",
     "text": [
      "100%|██████████| 18/18 [00:32<00:00,  1.81s/it, 123.75 (43.31) / 144.69] \n",
      "100%|██████████| 4/4 [00:04<00:00,  1.24s/it, 161.66 (418.07) / 165.19]\n"
     ]
    },
    {
     "name": "stdout",
     "output_type": "stream",
     "text": [
      "Epoch #14\n"
     ]
    },
    {
     "name": "stderr",
     "output_type": "stream",
     "text": [
      "100%|██████████| 18/18 [00:32<00:00,  1.80s/it, 97.13 (230.86) / 138.72]\n",
      "100%|██████████| 4/4 [00:05<00:00,  1.31s/it, 126.44 (50.19) / 165.19] \n"
     ]
    },
    {
     "name": "stdout",
     "output_type": "stream",
     "text": [
      "Epoch #15\n"
     ]
    },
    {
     "name": "stderr",
     "output_type": "stream",
     "text": [
      "100%|██████████| 18/18 [00:33<00:00,  1.84s/it, 83.09 (71.86) / 139.06] \n",
      "100%|██████████| 4/4 [00:05<00:00,  1.36s/it, 104.10 (84.68) / 165.19] \n"
     ]
    },
    {
     "name": "stdout",
     "output_type": "stream",
     "text": [
      "Epoch #16\n"
     ]
    },
    {
     "name": "stderr",
     "output_type": "stream",
     "text": [
      "100%|██████████| 18/18 [00:32<00:00,  1.82s/it, 82.83 (54.45) / 138.87] \n",
      "100%|██████████| 4/4 [00:04<00:00,  1.24s/it, 104.48 (195.61) / 165.19]\n"
     ]
    },
    {
     "name": "stdout",
     "output_type": "stream",
     "text": [
      "Epoch #17\n"
     ]
    },
    {
     "name": "stderr",
     "output_type": "stream",
     "text": [
      "100%|██████████| 18/18 [00:32<00:00,  1.81s/it, 85.98 (63.64) / 143.64] \n",
      "100%|██████████| 4/4 [00:04<00:00,  1.24s/it, 105.31 (42.45) / 165.19] \n"
     ]
    },
    {
     "name": "stdout",
     "output_type": "stream",
     "text": [
      "Epoch #18\n"
     ]
    },
    {
     "name": "stderr",
     "output_type": "stream",
     "text": [
      "100%|██████████| 18/18 [00:32<00:00,  1.81s/it, 78.17 (95.69) / 137.50] \n",
      "100%|██████████| 4/4 [00:04<00:00,  1.22s/it, 115.29 (89.57) / 165.19] \n"
     ]
    },
    {
     "name": "stdout",
     "output_type": "stream",
     "text": [
      "Epoch #19\n"
     ]
    },
    {
     "name": "stderr",
     "output_type": "stream",
     "text": [
      "100%|██████████| 18/18 [00:32<00:00,  1.82s/it, 70.38 (59.15) / 135.95]\n",
      "100%|██████████| 4/4 [00:04<00:00,  1.23s/it, 107.17 (136.88) / 165.19]\n"
     ]
    },
    {
     "name": "stdout",
     "output_type": "stream",
     "text": [
      "Epoch #20\n"
     ]
    },
    {
     "name": "stderr",
     "output_type": "stream",
     "text": [
      "100%|██████████| 18/18 [00:32<00:00,  1.80s/it, 74.71 (72.73) / 144.44] \n",
      "100%|██████████| 4/4 [00:04<00:00,  1.20s/it, 102.30 (18.68) / 165.19] \n"
     ]
    },
    {
     "name": "stdout",
     "output_type": "stream",
     "text": [
      "Epoch #21\n"
     ]
    },
    {
     "name": "stderr",
     "output_type": "stream",
     "text": [
      "100%|██████████| 18/18 [00:32<00:00,  1.82s/it, 70.40 (65.60) / 144.21]\n",
      "100%|██████████| 4/4 [00:05<00:00,  1.27s/it, 105.77 (74.51) / 165.19] \n"
     ]
    },
    {
     "name": "stdout",
     "output_type": "stream",
     "text": [
      "Epoch #22\n"
     ]
    },
    {
     "name": "stderr",
     "output_type": "stream",
     "text": [
      "100%|██████████| 18/18 [00:32<00:00,  1.81s/it, 74.04 (34.21) / 137.26] \n",
      "100%|██████████| 4/4 [00:04<00:00,  1.21s/it, 97.38 (441.77) / 165.19]\n"
     ]
    },
    {
     "name": "stdout",
     "output_type": "stream",
     "text": [
      "Epoch #23\n"
     ]
    },
    {
     "name": "stderr",
     "output_type": "stream",
     "text": [
      "100%|██████████| 18/18 [00:32<00:00,  1.82s/it, 58.77 (38.22) / 140.79] \n",
      "100%|██████████| 4/4 [00:04<00:00,  1.24s/it, 102.03 (36.37) / 165.19] \n"
     ]
    },
    {
     "name": "stdout",
     "output_type": "stream",
     "text": [
      "Epoch #24\n"
     ]
    },
    {
     "name": "stderr",
     "output_type": "stream",
     "text": [
      "100%|██████████| 18/18 [00:32<00:00,  1.82s/it, 66.07 (135.92) / 139.23]\n",
      "100%|██████████| 4/4 [00:05<00:00,  1.30s/it, 103.33 (266.58) / 165.19]\n"
     ]
    },
    {
     "name": "stdout",
     "output_type": "stream",
     "text": [
      "Epoch #25\n"
     ]
    },
    {
     "name": "stderr",
     "output_type": "stream",
     "text": [
      "100%|██████████| 18/18 [00:32<00:00,  1.83s/it, 55.02 (55.94) / 144.28] \n",
      "100%|██████████| 4/4 [00:04<00:00,  1.21s/it, 104.26 (202.50) / 165.19]\n"
     ]
    },
    {
     "name": "stdout",
     "output_type": "stream",
     "text": [
      "Epoch #26\n"
     ]
    },
    {
     "name": "stderr",
     "output_type": "stream",
     "text": [
      "100%|██████████| 18/18 [00:32<00:00,  1.83s/it, 56.45 (55.19) / 141.97]\n",
      "100%|██████████| 4/4 [00:05<00:00,  1.27s/it, 110.46 (308.85) / 165.19]\n"
     ]
    },
    {
     "name": "stdout",
     "output_type": "stream",
     "text": [
      "Epoch #27\n"
     ]
    },
    {
     "name": "stderr",
     "output_type": "stream",
     "text": [
      "100%|██████████| 18/18 [00:32<00:00,  1.80s/it, 59.95 (86.09) / 140.66] \n",
      "100%|██████████| 4/4 [00:05<00:00,  1.32s/it, 115.14 (421.27) / 165.19]\n"
     ]
    },
    {
     "name": "stdout",
     "output_type": "stream",
     "text": [
      "Epoch #28\n"
     ]
    },
    {
     "name": "stderr",
     "output_type": "stream",
     "text": [
      "100%|██████████| 18/18 [00:32<00:00,  1.80s/it, 49.90 (86.18) / 136.51]\n",
      "100%|██████████| 4/4 [00:05<00:00,  1.33s/it, 115.17 (134.07) / 165.19]\n"
     ]
    },
    {
     "name": "stdout",
     "output_type": "stream",
     "text": [
      "Epoch #29\n"
     ]
    },
    {
     "name": "stderr",
     "output_type": "stream",
     "text": [
      "100%|██████████| 18/18 [00:33<00:00,  1.84s/it, 59.03 (44.16) / 141.62]\n",
      "100%|██████████| 4/4 [00:05<00:00,  1.29s/it, 118.54 (262.26) / 165.19]\n"
     ]
    },
    {
     "name": "stdout",
     "output_type": "stream",
     "text": [
      "Epoch #30\n"
     ]
    },
    {
     "name": "stderr",
     "output_type": "stream",
     "text": [
      "100%|██████████| 18/18 [00:33<00:00,  1.85s/it, 45.58 (45.01) / 139.10]\n",
      "100%|██████████| 4/4 [00:04<00:00,  1.21s/it, 98.12 (81.03) / 165.19]  \n"
     ]
    },
    {
     "name": "stdout",
     "output_type": "stream",
     "text": [
      "Epoch #31\n"
     ]
    },
    {
     "name": "stderr",
     "output_type": "stream",
     "text": [
      "100%|██████████| 18/18 [00:32<00:00,  1.83s/it, 48.92 (75.58) / 140.48]\n",
      "100%|██████████| 4/4 [00:04<00:00,  1.22s/it, 103.13 (47.71) / 165.19] \n"
     ]
    },
    {
     "name": "stdout",
     "output_type": "stream",
     "text": [
      "Epoch #32\n"
     ]
    },
    {
     "name": "stderr",
     "output_type": "stream",
     "text": [
      "100%|██████████| 18/18 [00:32<00:00,  1.83s/it, 52.29 (57.45) / 134.47]\n",
      "100%|██████████| 4/4 [00:04<00:00,  1.21s/it, 110.53 (347.53) / 165.19]\n"
     ]
    },
    {
     "name": "stdout",
     "output_type": "stream",
     "text": [
      "Epoch #33\n"
     ]
    },
    {
     "name": "stderr",
     "output_type": "stream",
     "text": [
      "100%|██████████| 18/18 [00:32<00:00,  1.82s/it, 50.46 (28.83) / 144.18] \n",
      "100%|██████████| 4/4 [00:05<00:00,  1.29s/it, 91.74 (111.44) / 165.19]\n"
     ]
    },
    {
     "name": "stdout",
     "output_type": "stream",
     "text": [
      "Epoch #34\n"
     ]
    },
    {
     "name": "stderr",
     "output_type": "stream",
     "text": [
      "100%|██████████| 18/18 [00:33<00:00,  1.84s/it, 45.49 (77.00) / 143.58]\n",
      "100%|██████████| 4/4 [00:04<00:00,  1.19s/it, 104.36 (465.99) / 165.19]\n"
     ]
    },
    {
     "name": "stdout",
     "output_type": "stream",
     "text": [
      "Epoch #35\n"
     ]
    },
    {
     "name": "stderr",
     "output_type": "stream",
     "text": [
      "100%|██████████| 18/18 [00:32<00:00,  1.80s/it, 57.88 (51.98) / 138.33] \n",
      "100%|██████████| 4/4 [00:05<00:00,  1.30s/it, 106.61 (301.04) / 165.19]\n"
     ]
    },
    {
     "name": "stdout",
     "output_type": "stream",
     "text": [
      "Epoch #36\n"
     ]
    },
    {
     "name": "stderr",
     "output_type": "stream",
     "text": [
      "100%|██████████| 18/18 [00:32<00:00,  1.81s/it, 45.40 (56.69) / 143.21]\n",
      "100%|██████████| 4/4 [00:04<00:00,  1.24s/it, 97.95 (24.16) / 165.19]  \n"
     ]
    },
    {
     "name": "stdout",
     "output_type": "stream",
     "text": [
      "Epoch #37\n"
     ]
    },
    {
     "name": "stderr",
     "output_type": "stream",
     "text": [
      "100%|██████████| 18/18 [00:32<00:00,  1.82s/it, 48.39 (42.56) / 144.34] \n",
      "100%|██████████| 4/4 [00:05<00:00,  1.27s/it, 109.59 (20.82) / 165.19] \n"
     ]
    },
    {
     "name": "stdout",
     "output_type": "stream",
     "text": [
      "Epoch #38\n"
     ]
    },
    {
     "name": "stderr",
     "output_type": "stream",
     "text": [
      "100%|██████████| 18/18 [00:33<00:00,  1.84s/it, 45.47 (44.03) / 144.59]\n",
      "100%|██████████| 4/4 [00:05<00:00,  1.25s/it, 100.70 (400.33) / 165.19]\n"
     ]
    },
    {
     "name": "stdout",
     "output_type": "stream",
     "text": [
      "Epoch #39\n"
     ]
    },
    {
     "name": "stderr",
     "output_type": "stream",
     "text": [
      "100%|██████████| 18/18 [00:32<00:00,  1.82s/it, 42.21 (25.13) / 142.34]\n",
      "100%|██████████| 4/4 [00:05<00:00,  1.32s/it, 89.58 (8.84) / 165.19]  \n"
     ]
    },
    {
     "name": "stdout",
     "output_type": "stream",
     "text": [
      "Epoch #40\n"
     ]
    },
    {
     "name": "stderr",
     "output_type": "stream",
     "text": [
      "100%|██████████| 18/18 [00:33<00:00,  1.85s/it, 48.07 (56.01) / 142.01]\n",
      "100%|██████████| 4/4 [00:05<00:00,  1.32s/it, 110.61 (36.80) / 165.19] \n"
     ]
    },
    {
     "name": "stdout",
     "output_type": "stream",
     "text": [
      "Epoch #41\n"
     ]
    },
    {
     "name": "stderr",
     "output_type": "stream",
     "text": [
      "100%|██████████| 18/18 [00:32<00:00,  1.81s/it, 51.23 (44.50) / 141.00]\n",
      "100%|██████████| 4/4 [00:05<00:00,  1.31s/it, 110.43 (382.61) / 165.19]\n"
     ]
    },
    {
     "name": "stdout",
     "output_type": "stream",
     "text": [
      "Epoch #42\n"
     ]
    },
    {
     "name": "stderr",
     "output_type": "stream",
     "text": [
      "100%|██████████| 18/18 [00:32<00:00,  1.83s/it, 54.34 (72.75) / 142.07]\n",
      "100%|██████████| 4/4 [00:05<00:00,  1.34s/it, 107.66 (33.53) / 165.19] \n"
     ]
    },
    {
     "name": "stdout",
     "output_type": "stream",
     "text": [
      "Epoch #43\n"
     ]
    },
    {
     "name": "stderr",
     "output_type": "stream",
     "text": [
      "100%|██████████| 18/18 [00:32<00:00,  1.79s/it, 45.67 (39.92) / 139.66]\n",
      "100%|██████████| 4/4 [00:05<00:00,  1.33s/it, 110.67 (105.92) / 165.19]\n"
     ]
    },
    {
     "name": "stdout",
     "output_type": "stream",
     "text": [
      "Epoch #44\n"
     ]
    },
    {
     "name": "stderr",
     "output_type": "stream",
     "text": [
      "100%|██████████| 18/18 [00:32<00:00,  1.83s/it, 47.29 (55.97) / 139.93]\n",
      "100%|██████████| 4/4 [00:04<00:00,  1.23s/it, 99.30 (118.00) / 165.19] \n",
      "100%|██████████| 4/4 [00:05<00:00,  1.33s/it, 104.44 (13.53) / 165.19] \n",
      "100%|██████████| 64/64 [03:19<00:00,  3.11s/it, 110.33 (13.11) / 27.40] \n"
     ]
    },
    {
     "name": "stdout",
     "output_type": "stream",
     "text": [
      "35 0.8850574712643677\n",
      "40 0.8772321428571429\n",
      "45 0.8444444444444444\n",
      "50 0.7999999999999999\n"
     ]
    },
    {
     "name": "stderr",
     "output_type": "stream",
     "text": [
      "100%|██████████| 64/64 [00:36<00:00,  1.76it/s, 111.71 (54.15) / 149.54] \n",
      "100%|██████████| 1276/1276 [57:49<00:00,  2.72s/it, 111.22 (374.18) / 27.75] \n"
     ]
    },
    {
     "name": "stdout",
     "output_type": "stream",
     "text": [
      "35 0.8430919578853047\n",
      "40 0.8313228046594981\n",
      "45 0.8150241439859526\n",
      "50 0.7795209517234054\n"
     ]
    }
   ],
   "source": [
    "video.run(data_dir=\"/zfs/wficai/Data/echonet_data/EchoNet-Dynamic/\",\n",
    "          file_list = \"/zfs/wficai/Data/echonet_data/train_val_test_0.05.csv\",\n",
    "          output = \"output_5per_notpretrained\",\n",
    "          batch_size=20,\n",
    "          num_workers=30,\n",
    "          pretrained=False,\n",
    "          run_test=True)"
   ]
  },
  {
   "cell_type": "code",
   "execution_count": 5,
   "id": "8526bb79-0a70-458b-a4e4-a5e48bf97e36",
   "metadata": {},
   "outputs": [
    {
     "name": "stderr",
     "output_type": "stream",
     "text": [
      "100%|██████████| 16/16 [00:01<00:00,  8.03it/s]\n",
      "100%|██████████| 7/7 [00:06<00:00,  1.02it/s, 60.63 (30.90) / 142.24]\n",
      "100%|██████████| 128/128 [05:57<00:00,  2.80s/it, 57.43 (0.18) / 28.80]  \n"
     ]
    },
    {
     "name": "stdout",
     "output_type": "stream",
     "text": [
      "35 0.9838983050847459\n",
      "40 0.9806034482758621\n",
      "45 0.8881822999470058\n",
      "50 0.8807766990291263\n"
     ]
    },
    {
     "name": "stderr",
     "output_type": "stream",
     "text": [
      "100%|██████████| 64/64 [00:35<00:00,  1.82it/s, 69.88 (20.03) / 149.54] \n",
      "100%|██████████| 1276/1276 [56:57<00:00,  2.68s/it, 63.82 (208.88) / 27.75] \n"
     ]
    },
    {
     "name": "stdout",
     "output_type": "stream",
     "text": [
      "35 0.9375840053763441\n",
      "40 0.911295922939068\n",
      "45 0.895513242610477\n",
      "50 0.8764813142847028\n"
     ]
    }
   ],
   "source": [
    "video.run(data_dir=\"/zfs/wficai/Data/echonet_data/EchoNet-Dynamic/\",\n",
    "          file_list = \"/zfs/wficai/Data/echonet_data/train_val_test_0.1.csv\",\n",
    "          output = \"output_10per\",\n",
    "          batch_size=20,\n",
    "          num_workers=30,\n",
    "          run_test=True)"
   ]
  },
  {
   "cell_type": "code",
   "execution_count": null,
   "id": "3386e3d8-224d-4d5e-bf7f-5092f7b6c911",
   "metadata": {},
   "outputs": [],
   "source": [
    "video.run(data_dir=\"/zfs/wficai/Data/echonet_data/EchoNet-Dynamic/\",\n",
    "          file_list = \"/zfs/wficai/Data/echonet_data/train_val_test_0.25.csv\",\n",
    "          output = \"output_25per\",\n",
    "          batch_size=20,\n",
    "          num_workers=40,\n",
    "          run_test=True)"
   ]
  },
  {
   "cell_type": "code",
   "execution_count": 4,
   "id": "9a284441-baee-4175-ad50-b211f888f131",
   "metadata": {},
   "outputs": [
    {
     "name": "stderr",
     "output_type": "stream",
     "text": [
      "100%|██████████| 16/16 [00:04<00:00,  3.91it/s]\n"
     ]
    },
    {
     "name": "stdout",
     "output_type": "stream",
     "text": [
      "Epoch #37\n"
     ]
    },
    {
     "name": "stderr",
     "output_type": "stream",
     "text": [
      "100%|██████████| 186/186 [05:10<00:00,  1.67s/it, 6.72 (12.81) / 157.38]\n",
      "100%|██████████| 33/33 [00:20<00:00,  1.61it/s, 33.63 (19.18) / 144.53]\n"
     ]
    },
    {
     "name": "stdout",
     "output_type": "stream",
     "text": [
      "Epoch #38\n"
     ]
    },
    {
     "name": "stderr",
     "output_type": "stream",
     "text": [
      "100%|██████████| 186/186 [05:01<00:00,  1.62s/it, 6.27 (8.85) / 157.60] \n",
      "100%|██████████| 33/33 [00:19<00:00,  1.71it/s, 34.39 (91.42) / 144.53]\n"
     ]
    },
    {
     "name": "stdout",
     "output_type": "stream",
     "text": [
      "Epoch #39\n"
     ]
    },
    {
     "name": "stderr",
     "output_type": "stream",
     "text": [
      "100%|██████████| 186/186 [05:00<00:00,  1.61s/it, 6.84 (4.86) / 157.77] \n",
      "100%|██████████| 33/33 [00:20<00:00,  1.62it/s, 32.72 (43.78) / 144.52]\n"
     ]
    },
    {
     "name": "stdout",
     "output_type": "stream",
     "text": [
      "Epoch #40\n"
     ]
    },
    {
     "name": "stderr",
     "output_type": "stream",
     "text": [
      "100%|██████████| 186/186 [05:01<00:00,  1.62s/it, 6.47 (6.15) / 157.63] \n",
      "100%|██████████| 33/33 [00:19<00:00,  1.69it/s, 32.47 (17.29) / 144.53]\n"
     ]
    },
    {
     "name": "stdout",
     "output_type": "stream",
     "text": [
      "Epoch #41\n"
     ]
    },
    {
     "name": "stderr",
     "output_type": "stream",
     "text": [
      "100%|██████████| 186/186 [05:02<00:00,  1.63s/it, 7.19 (9.93) / 157.80] \n",
      "100%|██████████| 33/33 [00:20<00:00,  1.60it/s, 33.47 (30.12) / 144.52]\n"
     ]
    },
    {
     "name": "stdout",
     "output_type": "stream",
     "text": [
      "Epoch #42\n"
     ]
    },
    {
     "name": "stderr",
     "output_type": "stream",
     "text": [
      "100%|██████████| 186/186 [05:03<00:00,  1.63s/it, 6.61 (4.61) / 157.52] \n",
      "100%|██████████| 33/33 [00:20<00:00,  1.63it/s, 33.23 (28.58) / 144.52]\n"
     ]
    },
    {
     "name": "stdout",
     "output_type": "stream",
     "text": [
      "Epoch #43\n"
     ]
    },
    {
     "name": "stderr",
     "output_type": "stream",
     "text": [
      "100%|██████████| 186/186 [05:01<00:00,  1.62s/it, 6.45 (5.39) / 157.75] \n",
      "100%|██████████| 33/33 [00:20<00:00,  1.62it/s, 35.54 (39.89) / 144.53] \n"
     ]
    },
    {
     "name": "stdout",
     "output_type": "stream",
     "text": [
      "Epoch #44\n"
     ]
    },
    {
     "name": "stderr",
     "output_type": "stream",
     "text": [
      "100%|██████████| 186/186 [05:02<00:00,  1.63s/it, 6.58 (5.77) / 157.42] \n",
      "100%|██████████| 33/33 [00:20<00:00,  1.60it/s, 34.39 (19.01) / 144.53]\n",
      "100%|██████████| 33/33 [00:20<00:00,  1.57it/s, 33.98 (8.47) / 144.52] \n",
      "100%|██████████| 644/644 [29:46<00:00,  2.77s/it, 30.02 (54.34) / 28.44] \n"
     ]
    },
    {
     "name": "stdout",
     "output_type": "stream",
     "text": [
      "35 0.9838608446157985\n",
      "40 0.9824988324361527\n",
      "45 0.9676211657863034\n",
      "50 0.958653973485573\n"
     ]
    },
    {
     "name": "stderr",
     "output_type": "stream",
     "text": [
      "100%|██████████| 64/64 [00:36<00:00,  1.77it/s, 35.58 (66.73) / 149.54]\n",
      "100%|██████████| 1276/1276 [57:30<00:00,  2.70s/it, 31.14 (0.66) / 27.75]   \n"
     ]
    },
    {
     "name": "stdout",
     "output_type": "stream",
     "text": [
      "35 0.9753654233870968\n",
      "40 0.9717741935483869\n",
      "45 0.9727694249341527\n",
      "50 0.9569139802078355\n"
     ]
    }
   ],
   "source": [
    "video.run(data_dir=\"/zfs/wficai/Data/echonet_data/EchoNet-Dynamic/\",\n",
    "          file_list = \"/zfs/wficai/Data/echonet_data/train_val_test_0.5.csv\",\n",
    "          output = \"output_50per\",\n",
    "          batch_size=20,\n",
    "          num_workers=40,\n",
    "          run_test=True)"
   ]
  },
  {
   "cell_type": "code",
   "execution_count": 3,
   "id": "b9194a19-a66f-4a69-b63f-c2f0bdff66c8",
   "metadata": {},
   "outputs": [
    {
     "name": "stderr",
     "output_type": "stream",
     "text": [
      "100%|██████████| 16/16 [00:03<00:00,  4.05it/s]\n"
     ]
    },
    {
     "name": "stdout",
     "output_type": "stream",
     "text": [
      "Epoch #28\n"
     ]
    },
    {
     "name": "stderr",
     "output_type": "stream",
     "text": [
      "100%|██████████| 279/279 [07:39<00:00,  1.65s/it, 7.39 (9.05) / 152.19] \n",
      "100%|██████████| 49/49 [00:30<00:00,  1.63it/s, 30.96 (63.37) / 146.02]\n"
     ]
    },
    {
     "name": "stdout",
     "output_type": "stream",
     "text": [
      "Epoch #29\n"
     ]
    },
    {
     "name": "stderr",
     "output_type": "stream",
     "text": [
      "100%|██████████| 279/279 [07:31<00:00,  1.62s/it, 7.30 (5.22) / 151.86] \n",
      "100%|██████████| 49/49 [00:28<00:00,  1.71it/s, 30.98 (18.12) / 146.02]\n"
     ]
    },
    {
     "name": "stdout",
     "output_type": "stream",
     "text": [
      "Epoch #30\n"
     ]
    },
    {
     "name": "stderr",
     "output_type": "stream",
     "text": [
      "100%|██████████| 279/279 [07:29<00:00,  1.61s/it, 6.77 (9.44) / 152.20] \n",
      "100%|██████████| 49/49 [00:29<00:00,  1.68it/s, 30.64 (82.53) / 146.02]\n"
     ]
    },
    {
     "name": "stdout",
     "output_type": "stream",
     "text": [
      "Epoch #31\n"
     ]
    },
    {
     "name": "stderr",
     "output_type": "stream",
     "text": [
      "100%|██████████| 279/279 [07:30<00:00,  1.61s/it, 6.66 (5.41) / 152.22] \n",
      "100%|██████████| 49/49 [00:28<00:00,  1.72it/s, 31.79 (22.25) / 146.02]\n"
     ]
    },
    {
     "name": "stdout",
     "output_type": "stream",
     "text": [
      "Epoch #32\n"
     ]
    },
    {
     "name": "stderr",
     "output_type": "stream",
     "text": [
      "100%|██████████| 279/279 [07:29<00:00,  1.61s/it, 6.76 (4.02) / 152.18] \n",
      "100%|██████████| 49/49 [00:28<00:00,  1.75it/s, 31.90 (38.68) / 146.02]\n"
     ]
    },
    {
     "name": "stdout",
     "output_type": "stream",
     "text": [
      "Epoch #33\n"
     ]
    },
    {
     "name": "stderr",
     "output_type": "stream",
     "text": [
      "100%|██████████| 279/279 [07:30<00:00,  1.61s/it, 6.59 (5.27) / 152.30] \n",
      "100%|██████████| 49/49 [00:28<00:00,  1.70it/s, 31.26 (23.80) / 146.02]\n"
     ]
    },
    {
     "name": "stdout",
     "output_type": "stream",
     "text": [
      "Epoch #34\n"
     ]
    },
    {
     "name": "stderr",
     "output_type": "stream",
     "text": [
      "100%|██████████| 279/279 [07:29<00:00,  1.61s/it, 6.47 (3.80) / 152.15] \n",
      "100%|██████████| 49/49 [00:28<00:00,  1.72it/s, 31.11 (9.51) / 146.02] \n"
     ]
    },
    {
     "name": "stdout",
     "output_type": "stream",
     "text": [
      "Epoch #35\n"
     ]
    },
    {
     "name": "stderr",
     "output_type": "stream",
     "text": [
      "100%|██████████| 279/279 [07:31<00:00,  1.62s/it, 6.08 (4.48) / 151.95] \n",
      "100%|██████████| 49/49 [00:29<00:00,  1.69it/s, 29.46 (42.58) / 146.02]\n"
     ]
    },
    {
     "name": "stdout",
     "output_type": "stream",
     "text": [
      "Epoch #36\n"
     ]
    },
    {
     "name": "stderr",
     "output_type": "stream",
     "text": [
      "100%|██████████| 279/279 [07:30<00:00,  1.62s/it, 5.96 (9.84) / 152.17] \n",
      "100%|██████████| 49/49 [00:29<00:00,  1.67it/s, 30.89 (13.60) / 146.02]\n"
     ]
    },
    {
     "name": "stdout",
     "output_type": "stream",
     "text": [
      "Epoch #37\n"
     ]
    },
    {
     "name": "stderr",
     "output_type": "stream",
     "text": [
      "100%|██████████| 279/279 [07:31<00:00,  1.62s/it, 6.01 (4.96) / 152.41] \n",
      "100%|██████████| 49/49 [00:28<00:00,  1.73it/s, 31.69 (65.91) / 146.02]\n"
     ]
    },
    {
     "name": "stdout",
     "output_type": "stream",
     "text": [
      "Epoch #38\n"
     ]
    },
    {
     "name": "stderr",
     "output_type": "stream",
     "text": [
      "100%|██████████| 279/279 [07:29<00:00,  1.61s/it, 5.73 (4.53) / 152.03] \n",
      "100%|██████████| 49/49 [00:28<00:00,  1.71it/s, 31.13 (37.43) / 146.02]\n"
     ]
    },
    {
     "name": "stdout",
     "output_type": "stream",
     "text": [
      "Epoch #39\n"
     ]
    },
    {
     "name": "stderr",
     "output_type": "stream",
     "text": [
      "100%|██████████| 279/279 [07:31<00:00,  1.62s/it, 5.51 (9.40) / 152.30] \n",
      "100%|██████████| 49/49 [00:29<00:00,  1.69it/s, 31.02 (95.63) / 146.02]\n"
     ]
    },
    {
     "name": "stdout",
     "output_type": "stream",
     "text": [
      "Epoch #40\n"
     ]
    },
    {
     "name": "stderr",
     "output_type": "stream",
     "text": [
      "100%|██████████| 279/279 [07:31<00:00,  1.62s/it, 5.45 (4.18) / 152.41] \n",
      "100%|██████████| 49/49 [00:28<00:00,  1.69it/s, 31.33 (19.58) / 146.02]\n"
     ]
    },
    {
     "name": "stdout",
     "output_type": "stream",
     "text": [
      "Epoch #41\n"
     ]
    },
    {
     "name": "stderr",
     "output_type": "stream",
     "text": [
      "100%|██████████| 279/279 [07:29<00:00,  1.61s/it, 5.51 (3.93) / 152.07] \n",
      "100%|██████████| 49/49 [00:29<00:00,  1.68it/s, 30.93 (66.08) / 146.02]\n"
     ]
    },
    {
     "name": "stdout",
     "output_type": "stream",
     "text": [
      "Epoch #42\n"
     ]
    },
    {
     "name": "stderr",
     "output_type": "stream",
     "text": [
      "100%|██████████| 279/279 [07:31<00:00,  1.62s/it, 4.92 (10.56) / 152.25]\n",
      "100%|██████████| 49/49 [00:28<00:00,  1.72it/s, 32.91 (65.06) / 146.02]\n"
     ]
    },
    {
     "name": "stdout",
     "output_type": "stream",
     "text": [
      "Epoch #43\n"
     ]
    },
    {
     "name": "stderr",
     "output_type": "stream",
     "text": [
      "100%|██████████| 279/279 [07:31<00:00,  1.62s/it, 6.37 (6.19) / 152.27] \n",
      "100%|██████████| 49/49 [00:28<00:00,  1.71it/s, 31.12 (194.75) / 146.02]\n"
     ]
    },
    {
     "name": "stdout",
     "output_type": "stream",
     "text": [
      "Epoch #44\n"
     ]
    },
    {
     "name": "stderr",
     "output_type": "stream",
     "text": [
      "100%|██████████| 279/279 [07:31<00:00,  1.62s/it, 6.29 (4.73) / 152.12] \n",
      "100%|██████████| 49/49 [00:29<00:00,  1.65it/s, 31.02 (40.05) / 146.02]\n",
      "100%|██████████| 49/49 [00:28<00:00,  1.71it/s, 31.79 (14.29) / 146.02]\n",
      "100%|██████████| 966/966 [44:12<00:00,  2.75s/it, 28.31 (116.41) / 28.23] \n"
     ]
    },
    {
     "name": "stdout",
     "output_type": "stream",
     "text": [
      "35 0.9851285730051871\n",
      "40 0.982477253628526\n",
      "45 0.9743144490268432\n",
      "50 0.9625263213481811\n"
     ]
    },
    {
     "name": "stderr",
     "output_type": "stream",
     "text": [
      "100%|██████████| 64/64 [00:37<00:00,  1.71it/s, 34.67 (32.54) / 149.54]\n",
      "100%|██████████| 1276/1276 [57:16<00:00,  2.69s/it, 29.39 (0.06) / 27.75]   \n"
     ]
    },
    {
     "name": "stdout",
     "output_type": "stream",
     "text": [
      "35 0.9769895273297491\n",
      "40 0.9733982974910395\n",
      "45 0.973263279192274\n",
      "50 0.9553525589958751\n"
     ]
    }
   ],
   "source": [
    "video.run(data_dir=\"/zfs/wficai/Data/echonet_data/EchoNet-Dynamic/\",\n",
    "          file_list = \"/zfs/wficai/Data/echonet_data/train_val_test_0.75.csv\",\n",
    "          output = \"output_75per\",\n",
    "          batch_size=20,\n",
    "          num_workers=40,\n",
    "          run_test=True)"
   ]
  },
  {
   "cell_type": "code",
   "execution_count": null,
   "id": "9bcbf650-9018-4fa6-9a2d-95392d0808b6",
   "metadata": {},
   "outputs": [],
   "source": []
  }
 ],
 "metadata": {
  "kernelspec": {
   "display_name": "echonet_oldp",
   "language": "python",
   "name": "echonet_oldp"
  },
  "language_info": {
   "codemirror_mode": {
    "name": "ipython",
    "version": 3
   },
   "file_extension": ".py",
   "mimetype": "text/x-python",
   "name": "python",
   "nbconvert_exporter": "python",
   "pygments_lexer": "ipython3",
   "version": "3.7.4"
  }
 },
 "nbformat": 4,
 "nbformat_minor": 5
}
