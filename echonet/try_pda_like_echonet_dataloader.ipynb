{
 "cells": [
  {
   "cell_type": "code",
   "execution_count": 2,
   "id": "1b949001-03fc-49c4-a877-f976b65e1c61",
   "metadata": {},
   "outputs": [],
   "source": [
    "%load_ext autoreload\n",
    "%autoreload 2"
   ]
  },
  {
   "cell_type": "code",
   "execution_count": 3,
   "id": "d1e569d6-b317-4380-87eb-6166411448af",
   "metadata": {},
   "outputs": [],
   "source": [
    "import pandas as pd"
   ]
  },
  {
   "cell_type": "markdown",
   "id": "9b190306-25e9-488e-a63a-262884d6a3e0",
   "metadata": {},
   "source": [
    "# Quickly mock up the pda_like_echo with splits"
   ]
  },
  {
   "cell_type": "code",
   "execution_count": 4,
   "id": "9c858629-c6c7-43d0-b9f1-83c532f0b6fc",
   "metadata": {},
   "outputs": [
    {
     "data": {
      "text/html": [
       "<div>\n",
       "<style scoped>\n",
       "    .dataframe tbody tr th:only-of-type {\n",
       "        vertical-align: middle;\n",
       "    }\n",
       "\n",
       "    .dataframe tbody tr th {\n",
       "        vertical-align: top;\n",
       "    }\n",
       "\n",
       "    .dataframe thead th {\n",
       "        text-align: right;\n",
       "    }\n",
       "</style>\n",
       "<table border=\"1\" class=\"dataframe\">\n",
       "  <thead>\n",
       "    <tr style=\"text-align: right;\">\n",
       "      <th></th>\n",
       "      <th>FileName</th>\n",
       "      <th>Label</th>\n",
       "      <th>ExternalID</th>\n",
       "      <th>Mode</th>\n",
       "      <th>FrameHeight</th>\n",
       "      <th>FrameWidth</th>\n",
       "      <th>FPS</th>\n",
       "      <th>NumberOfFrames</th>\n",
       "      <th>Split</th>\n",
       "    </tr>\n",
       "  </thead>\n",
       "  <tbody>\n",
       "    <tr>\n",
       "      <th>0</th>\n",
       "      <td>/zfs/wficai/pda/batch_1/PDA_Batch_1/Superior V...</td>\n",
       "      <td>pda</td>\n",
       "      <td>study1_dicom8</td>\n",
       "      <td>2d</td>\n",
       "      <td>758.0</td>\n",
       "      <td>1016.0</td>\n",
       "      <td>30.0</td>\n",
       "      <td>134.0</td>\n",
       "      <td>NaN</td>\n",
       "    </tr>\n",
       "    <tr>\n",
       "      <th>1</th>\n",
       "      <td>/zfs/wficai/pda/batch_1/PDA_Batch_1/Superior V...</td>\n",
       "      <td>pda</td>\n",
       "      <td>study1_dicom10</td>\n",
       "      <td>2d</td>\n",
       "      <td>758.0</td>\n",
       "      <td>1016.0</td>\n",
       "      <td>30.0</td>\n",
       "      <td>100.0</td>\n",
       "      <td>NaN</td>\n",
       "    </tr>\n",
       "    <tr>\n",
       "      <th>2</th>\n",
       "      <td>/zfs/wficai/pda/batch_1/PDA_Batch_1/Superior V...</td>\n",
       "      <td>pda</td>\n",
       "      <td>study1_dicom11</td>\n",
       "      <td>color</td>\n",
       "      <td>758.0</td>\n",
       "      <td>1016.0</td>\n",
       "      <td>30.0</td>\n",
       "      <td>70.0</td>\n",
       "      <td>NaN</td>\n",
       "    </tr>\n",
       "    <tr>\n",
       "      <th>3</th>\n",
       "      <td>/zfs/wficai/pda/batch_1/PDA_Batch_1/Superior V...</td>\n",
       "      <td>pda</td>\n",
       "      <td>study1_dicom1</td>\n",
       "      <td>2d</td>\n",
       "      <td>758.0</td>\n",
       "      <td>1016.0</td>\n",
       "      <td>30.0</td>\n",
       "      <td>109.0</td>\n",
       "      <td>NaN</td>\n",
       "    </tr>\n",
       "    <tr>\n",
       "      <th>4</th>\n",
       "      <td>/zfs/wficai/pda/batch_1/PDA_Batch_1/Superior V...</td>\n",
       "      <td>pda</td>\n",
       "      <td>study1_dicom2</td>\n",
       "      <td>2d</td>\n",
       "      <td>758.0</td>\n",
       "      <td>1016.0</td>\n",
       "      <td>30.0</td>\n",
       "      <td>72.0</td>\n",
       "      <td>NaN</td>\n",
       "    </tr>\n",
       "  </tbody>\n",
       "</table>\n",
       "</div>"
      ],
      "text/plain": [
       "                                            FileName Label      ExternalID  \\\n",
       "0  /zfs/wficai/pda/batch_1/PDA_Batch_1/Superior V...   pda   study1_dicom8   \n",
       "1  /zfs/wficai/pda/batch_1/PDA_Batch_1/Superior V...   pda  study1_dicom10   \n",
       "2  /zfs/wficai/pda/batch_1/PDA_Batch_1/Superior V...   pda  study1_dicom11   \n",
       "3  /zfs/wficai/pda/batch_1/PDA_Batch_1/Superior V...   pda   study1_dicom1   \n",
       "4  /zfs/wficai/pda/batch_1/PDA_Batch_1/Superior V...   pda   study1_dicom2   \n",
       "\n",
       "    Mode  FrameHeight  FrameWidth   FPS  NumberOfFrames  Split  \n",
       "0     2d        758.0      1016.0  30.0           134.0    NaN  \n",
       "1     2d        758.0      1016.0  30.0           100.0    NaN  \n",
       "2  color        758.0      1016.0  30.0            70.0    NaN  \n",
       "3     2d        758.0      1016.0  30.0           109.0    NaN  \n",
       "4     2d        758.0      1016.0  30.0            72.0    NaN  "
      ]
     },
     "execution_count": 4,
     "metadata": {},
     "output_type": "execute_result"
    }
   ],
   "source": [
    "df_pda = pd.read_csv(\"pda_like_echonet.csv\", index_col=[0])\n",
    "df_pda.head()"
   ]
  },
  {
   "cell_type": "markdown",
   "id": "3dd931fb-0944-431c-a9f8-2d337236cdc8",
   "metadata": {},
   "source": [
    "## Add splits for testing dataset class"
   ]
  },
  {
   "cell_type": "code",
   "execution_count": 5,
   "id": "d486256f-fc99-4fc4-8d59-3cca2b44466a",
   "metadata": {},
   "outputs": [
    {
     "name": "stderr",
     "output_type": "stream",
     "text": [
      "/home/jplineb/.conda/envs/echonet_oldp/lib/python3.7/site-packages/ipykernel_launcher.py:2: SettingWithCopyWarning: \n",
      "A value is trying to be set on a copy of a slice from a DataFrame\n",
      "\n",
      "See the caveats in the documentation: https://pandas.pydata.org/pandas-docs/stable/user_guide/indexing.html#returning-a-view-versus-a-copy\n",
      "  \n"
     ]
    },
    {
     "data": {
      "text/html": [
       "<div>\n",
       "<style scoped>\n",
       "    .dataframe tbody tr th:only-of-type {\n",
       "        vertical-align: middle;\n",
       "    }\n",
       "\n",
       "    .dataframe tbody tr th {\n",
       "        vertical-align: top;\n",
       "    }\n",
       "\n",
       "    .dataframe thead th {\n",
       "        text-align: right;\n",
       "    }\n",
       "</style>\n",
       "<table border=\"1\" class=\"dataframe\">\n",
       "  <thead>\n",
       "    <tr style=\"text-align: right;\">\n",
       "      <th></th>\n",
       "      <th>FileName</th>\n",
       "      <th>Label</th>\n",
       "      <th>ExternalID</th>\n",
       "      <th>Mode</th>\n",
       "      <th>FrameHeight</th>\n",
       "      <th>FrameWidth</th>\n",
       "      <th>FPS</th>\n",
       "      <th>NumberOfFrames</th>\n",
       "      <th>Split</th>\n",
       "    </tr>\n",
       "  </thead>\n",
       "  <tbody>\n",
       "    <tr>\n",
       "      <th>0</th>\n",
       "      <td>/zfs/wficai/pda/batch_1/PDA_Batch_1/Superior V...</td>\n",
       "      <td>pda</td>\n",
       "      <td>study1_dicom8</td>\n",
       "      <td>2d</td>\n",
       "      <td>758.0</td>\n",
       "      <td>1016.0</td>\n",
       "      <td>30.0</td>\n",
       "      <td>134.0</td>\n",
       "      <td>TRAIN</td>\n",
       "    </tr>\n",
       "    <tr>\n",
       "      <th>1</th>\n",
       "      <td>/zfs/wficai/pda/batch_1/PDA_Batch_1/Superior V...</td>\n",
       "      <td>pda</td>\n",
       "      <td>study1_dicom10</td>\n",
       "      <td>2d</td>\n",
       "      <td>758.0</td>\n",
       "      <td>1016.0</td>\n",
       "      <td>30.0</td>\n",
       "      <td>100.0</td>\n",
       "      <td>TRAIN</td>\n",
       "    </tr>\n",
       "    <tr>\n",
       "      <th>2</th>\n",
       "      <td>/zfs/wficai/pda/batch_1/PDA_Batch_1/Superior V...</td>\n",
       "      <td>pda</td>\n",
       "      <td>study1_dicom11</td>\n",
       "      <td>color</td>\n",
       "      <td>758.0</td>\n",
       "      <td>1016.0</td>\n",
       "      <td>30.0</td>\n",
       "      <td>70.0</td>\n",
       "      <td>TRAIN</td>\n",
       "    </tr>\n",
       "    <tr>\n",
       "      <th>3</th>\n",
       "      <td>/zfs/wficai/pda/batch_1/PDA_Batch_1/Superior V...</td>\n",
       "      <td>pda</td>\n",
       "      <td>study1_dicom1</td>\n",
       "      <td>2d</td>\n",
       "      <td>758.0</td>\n",
       "      <td>1016.0</td>\n",
       "      <td>30.0</td>\n",
       "      <td>109.0</td>\n",
       "      <td>TRAIN</td>\n",
       "    </tr>\n",
       "    <tr>\n",
       "      <th>4</th>\n",
       "      <td>/zfs/wficai/pda/batch_1/PDA_Batch_1/Superior V...</td>\n",
       "      <td>pda</td>\n",
       "      <td>study1_dicom2</td>\n",
       "      <td>2d</td>\n",
       "      <td>758.0</td>\n",
       "      <td>1016.0</td>\n",
       "      <td>30.0</td>\n",
       "      <td>72.0</td>\n",
       "      <td>TRAIN</td>\n",
       "    </tr>\n",
       "    <tr>\n",
       "      <th>...</th>\n",
       "      <td>...</td>\n",
       "      <td>...</td>\n",
       "      <td>...</td>\n",
       "      <td>...</td>\n",
       "      <td>...</td>\n",
       "      <td>...</td>\n",
       "      <td>...</td>\n",
       "      <td>...</td>\n",
       "      <td>...</td>\n",
       "    </tr>\n",
       "    <tr>\n",
       "      <th>3166</th>\n",
       "      <td>/zfs/wficai/pda/batch_1/Non-PDA_Batch_1/Superi...</td>\n",
       "      <td>nopda</td>\n",
       "      <td>study45_dicom54</td>\n",
       "      <td>2d</td>\n",
       "      <td>758.0</td>\n",
       "      <td>1016.0</td>\n",
       "      <td>30.0</td>\n",
       "      <td>105.0</td>\n",
       "      <td>VAL</td>\n",
       "    </tr>\n",
       "    <tr>\n",
       "      <th>3167</th>\n",
       "      <td>/zfs/wficai/pda/batch_1/Non-PDA_Batch_1/Superi...</td>\n",
       "      <td>nopda</td>\n",
       "      <td>study57_dicom101</td>\n",
       "      <td>color</td>\n",
       "      <td>758.0</td>\n",
       "      <td>1016.0</td>\n",
       "      <td>30.0</td>\n",
       "      <td>49.0</td>\n",
       "      <td>VAL</td>\n",
       "    </tr>\n",
       "    <tr>\n",
       "      <th>3168</th>\n",
       "      <td>/zfs/wficai/pda/batch_1/Non-PDA_Batch_1/Superi...</td>\n",
       "      <td>nopda</td>\n",
       "      <td>study9_dicom11</td>\n",
       "      <td>2d</td>\n",
       "      <td>758.0</td>\n",
       "      <td>1016.0</td>\n",
       "      <td>30.0</td>\n",
       "      <td>107.0</td>\n",
       "      <td>VAL</td>\n",
       "    </tr>\n",
       "    <tr>\n",
       "      <th>3169</th>\n",
       "      <td>/zfs/wficai/pda/batch_1/Non-PDA_Batch_1/Superi...</td>\n",
       "      <td>nopda</td>\n",
       "      <td>study24_dicom110</td>\n",
       "      <td>color_compare</td>\n",
       "      <td>758.0</td>\n",
       "      <td>1016.0</td>\n",
       "      <td>30.0</td>\n",
       "      <td>147.0</td>\n",
       "      <td>VAL</td>\n",
       "    </tr>\n",
       "    <tr>\n",
       "      <th>3170</th>\n",
       "      <td>/zfs/wficai/pda/batch_1/Non-PDA_Batch_1/Superi...</td>\n",
       "      <td>nopda</td>\n",
       "      <td>study10_dicom62</td>\n",
       "      <td>2d</td>\n",
       "      <td>758.0</td>\n",
       "      <td>1016.0</td>\n",
       "      <td>30.0</td>\n",
       "      <td>152.0</td>\n",
       "      <td>VAL</td>\n",
       "    </tr>\n",
       "  </tbody>\n",
       "</table>\n",
       "<p>3171 rows × 9 columns</p>\n",
       "</div>"
      ],
      "text/plain": [
       "                                               FileName  Label  \\\n",
       "0     /zfs/wficai/pda/batch_1/PDA_Batch_1/Superior V...    pda   \n",
       "1     /zfs/wficai/pda/batch_1/PDA_Batch_1/Superior V...    pda   \n",
       "2     /zfs/wficai/pda/batch_1/PDA_Batch_1/Superior V...    pda   \n",
       "3     /zfs/wficai/pda/batch_1/PDA_Batch_1/Superior V...    pda   \n",
       "4     /zfs/wficai/pda/batch_1/PDA_Batch_1/Superior V...    pda   \n",
       "...                                                 ...    ...   \n",
       "3166  /zfs/wficai/pda/batch_1/Non-PDA_Batch_1/Superi...  nopda   \n",
       "3167  /zfs/wficai/pda/batch_1/Non-PDA_Batch_1/Superi...  nopda   \n",
       "3168  /zfs/wficai/pda/batch_1/Non-PDA_Batch_1/Superi...  nopda   \n",
       "3169  /zfs/wficai/pda/batch_1/Non-PDA_Batch_1/Superi...  nopda   \n",
       "3170  /zfs/wficai/pda/batch_1/Non-PDA_Batch_1/Superi...  nopda   \n",
       "\n",
       "            ExternalID           Mode  FrameHeight  FrameWidth   FPS  \\\n",
       "0        study1_dicom8             2d        758.0      1016.0  30.0   \n",
       "1       study1_dicom10             2d        758.0      1016.0  30.0   \n",
       "2       study1_dicom11          color        758.0      1016.0  30.0   \n",
       "3        study1_dicom1             2d        758.0      1016.0  30.0   \n",
       "4        study1_dicom2             2d        758.0      1016.0  30.0   \n",
       "...                ...            ...          ...         ...   ...   \n",
       "3166   study45_dicom54             2d        758.0      1016.0  30.0   \n",
       "3167  study57_dicom101          color        758.0      1016.0  30.0   \n",
       "3168    study9_dicom11             2d        758.0      1016.0  30.0   \n",
       "3169  study24_dicom110  color_compare        758.0      1016.0  30.0   \n",
       "3170   study10_dicom62             2d        758.0      1016.0  30.0   \n",
       "\n",
       "      NumberOfFrames  Split  \n",
       "0              134.0  TRAIN  \n",
       "1              100.0  TRAIN  \n",
       "2               70.0  TRAIN  \n",
       "3              109.0  TRAIN  \n",
       "4               72.0  TRAIN  \n",
       "...              ...    ...  \n",
       "3166           105.0    VAL  \n",
       "3167            49.0    VAL  \n",
       "3168           107.0    VAL  \n",
       "3169           147.0    VAL  \n",
       "3170           152.0    VAL  \n",
       "\n",
       "[3171 rows x 9 columns]"
      ]
     },
     "execution_count": 5,
     "metadata": {},
     "output_type": "execute_result"
    }
   ],
   "source": [
    "df_pda[\"Split\"] = \"TRAIN\"\n",
    "df_pda[\"Split\"][-35:] = \"VAL\"\n",
    "df_pda"
   ]
  },
  {
   "cell_type": "markdown",
   "id": "f40c2603-a5c1-4d9a-86b6-dee0ff659b4d",
   "metadata": {
    "tags": []
   },
   "source": [
    "## Save this file locally just for testing"
   ]
  },
  {
   "cell_type": "code",
   "execution_count": null,
   "id": "bb6db956-c92a-4d62-9fac-17ab9a3c17d6",
   "metadata": {},
   "outputs": [],
   "source": [
    "df_pda.to_csv(\"dataset_test.csv\")"
   ]
  },
  {
   "cell_type": "markdown",
   "id": "98778c1d-8fdc-4911-ada0-6c708876ce5b",
   "metadata": {},
   "source": [
    "# Try out dataset class"
   ]
  },
  {
   "cell_type": "code",
   "execution_count": 3,
   "id": "2be22f6e-338d-489a-aba8-247074241ac3",
   "metadata": {},
   "outputs": [],
   "source": [
    "from datasets import PDALikeEcho"
   ]
  },
  {
   "cell_type": "code",
   "execution_count": 4,
   "id": "01241239-5fde-4907-96fd-a508850e13c2",
   "metadata": {},
   "outputs": [],
   "source": [
    "path_to_csv = \"dataset_test.csv\""
   ]
  },
  {
   "cell_type": "code",
   "execution_count": 5,
   "id": "ee6999cb-bd6e-4d60-a2ea-7130dd7fa8c0",
   "metadata": {},
   "outputs": [],
   "source": [
    "dataset = PDALikeEcho(file_list=path_to_csv, target_type=\"Label\")"
   ]
  },
  {
   "cell_type": "code",
   "execution_count": 6,
   "id": "8b63e142-a52e-4593-8419-4f7c4333576f",
   "metadata": {},
   "outputs": [
    {
     "name": "stdout",
     "output_type": "stream",
     "text": [
      "(3, 16, 112, 112)\n",
      "[1.0]\n"
     ]
    }
   ],
   "source": [
    "test_item = dataset.__getitem__(1)\n",
    "print(test_item[0].shape)\n",
    "print(test_item[1])"
   ]
  },
  {
   "cell_type": "code",
   "execution_count": null,
   "id": "21a773b2-c4f0-4d4b-9fb6-35d86ee06a7f",
   "metadata": {},
   "outputs": [],
   "source": [
    "test_item[1]"
   ]
  },
  {
   "cell_type": "code",
   "execution_count": null,
   "id": "e2ea7743-0c13-4c64-91ff-ad81fb6006aa",
   "metadata": {},
   "outputs": [],
   "source": [
    "test_item[0].shape"
   ]
  },
  {
   "cell_type": "code",
   "execution_count": null,
   "id": "1db3bcaa-9291-4129-8d8e-d6ab036be202",
   "metadata": {},
   "outputs": [],
   "source": []
  }
 ],
 "metadata": {
  "kernelspec": {
   "display_name": "echonet_oldp",
   "language": "python",
   "name": "echonet_oldp"
  },
  "language_info": {
   "codemirror_mode": {
    "name": "ipython",
    "version": 3
   },
   "file_extension": ".py",
   "mimetype": "text/x-python",
   "name": "python",
   "nbconvert_exporter": "python",
   "pygments_lexer": "ipython3",
   "version": "3.7.4"
  }
 },
 "nbformat": 4,
 "nbformat_minor": 5
}
